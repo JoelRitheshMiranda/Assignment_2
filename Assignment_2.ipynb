{
 "cells": [
  {
   "cell_type": "code",
   "execution_count": 1,
   "metadata": {},
   "outputs": [],
   "source": [
    "# Task 1:"
   ]
  },
  {
   "cell_type": "code",
   "execution_count": 2,
   "metadata": {},
   "outputs": [
    {
     "name": "stdout",
     "output_type": "stream",
     "text": [
      "[1, 2, 3, 4]\n",
      "Addition: 10\n",
      "[20, 5, 2, 4]\n",
      "Subtraction: 9\n"
     ]
    }
   ],
   "source": [
    "# 1.1 Write a Python Program to implement your own myreduce() function which works exactly like\n",
    "#     Python's built-in function reduce()\n",
    "\n",
    "def myreduce(func, lst):\n",
    "    data = lst[0]\n",
    "    for i in lst[1:]:\n",
    "        data = func(data, i)\n",
    "    return data\n",
    "\n",
    "def add(x1, x2):\n",
    "    return x1 + x2\n",
    "\n",
    "def subtract(x1, x2):\n",
    "    return x1 - x2\n",
    "\n",
    "lst1 = [1, 2, 3, 4]\n",
    "print(lst1)\n",
    "result = myreduce(add, lst1) # Addition of list\n",
    "print(\"Addition: \" + str(result))\n",
    "\n",
    "lst2 = [20, 5, 2, 4]\n",
    "print(lst2)\n",
    "result = myreduce(subtract, lst2) # Subtraction of list\n",
    "print(\"Subtraction: \" + str(result))\n"
   ]
  },
  {
   "cell_type": "code",
   "execution_count": 3,
   "metadata": {},
   "outputs": [
    {
     "name": "stdout",
     "output_type": "stream",
     "text": [
      "[-6, -4, -1, 0, 1, 2, 5, 8, 10, 15]\n",
      "Filtered Even Numbers: \n",
      "[-6, -4, 0, 2, 8, 10]\n",
      "\n",
      "[0, 1, 2, 4, 8, 9, 10, 16, 20, 25, 30]\n",
      "Filtered Perfect Square Numbers: \n",
      "[0, 1, 4, 9, 16, 25]\n"
     ]
    }
   ],
   "source": [
    "# 1.2 Write a Python program to implement your own myfilter() function which works exactly like\n",
    "#     Python's built-in function filter()\n",
    "\n",
    "import math\n",
    "\n",
    "def myfilter(func, lst):\n",
    "    data = []\n",
    "    for i in lst:\n",
    "        if func(i):\n",
    "            data.append(i)\n",
    "    return data\n",
    "\n",
    "def is_even(n):\n",
    "    if (n % 2 == 0): \n",
    "        return True \n",
    "    else: \n",
    "        return False\n",
    "\n",
    "def is_perfect_square(n):\n",
    "    if (math.sqrt(n) - int(math.sqrt(n))):\n",
    "        return False\n",
    "    else:\n",
    "        return True\n",
    "    \n",
    "lst1 = [-6,-4,-1,0,1,2,5,8,10,15]\n",
    "print(lst1)\n",
    "print(\"Filtered Even Numbers: \")\n",
    "print(myfilter(is_even, lst1))\n",
    "\n",
    "print(\"\")\n",
    "\n",
    "lst2 = [0,1,2,4,8,9,10,16,20,25,30]\n",
    "print(lst2)\n",
    "print(\"Filtered Perfect Square Numbers: \")\n",
    "print(myfilter(is_perfect_square, lst2))"
   ]
  },
  {
   "cell_type": "code",
   "execution_count": 4,
   "metadata": {},
   "outputs": [],
   "source": [
    "# 2. Implement List comprehensions to produce the following lists.\n",
    "#    Write List comprehensions to produce the following Lists\n",
    "#    ['A', 'C', 'A', 'D', 'G', 'I', ’L’, ‘ D’]\n",
    "#    ['x', 'xx', 'xxx', 'xxxx', 'y', 'yy', 'yyy', 'yyyy', 'z', 'zz', 'zzz', 'zzzz']\n",
    "#    ['x', 'y', 'z', 'xx', 'yy', 'zz', 'xx', 'yy', 'zz', 'xxxx', 'yyyy', 'zzzz']\n",
    "\n",
    "#    [[2], [3], [4], [3], [4], [5], [4], [5], [6]]\n",
    "#    [[2, 3, 4, 5], [3, 4, 5, 6], [4, 5, 6, 7], [5, 6, 7, 8]]\n",
    "#    [(1, 1), (2, 1), (3, 1), (1, 2), (2, 2), (3, 2), (1, 3), (2, 3), (3, 3)]"
   ]
  },
  {
   "cell_type": "code",
   "execution_count": 5,
   "metadata": {},
   "outputs": [
    {
     "name": "stdout",
     "output_type": "stream",
     "text": [
      "['A', 'C', 'A', 'D', 'G', 'I', 'L', 'D']\n"
     ]
    }
   ],
   "source": [
    "# ['A', 'C', 'A', 'D', 'G', 'I', ’L’, ‘ D’]\n",
    "\n",
    "word = 'ACADGILD'\n",
    "lst = [r for r in word]\n",
    "print(lst)"
   ]
  },
  {
   "cell_type": "code",
   "execution_count": 6,
   "metadata": {},
   "outputs": [
    {
     "name": "stdout",
     "output_type": "stream",
     "text": [
      "['x', 'xx', 'xxx', 'xxxx', 'y', 'yy', 'yyy', 'yyyy', 'z', 'zz', 'zzz', 'zzzz']\n"
     ]
    }
   ],
   "source": [
    "# ['x', 'xx', 'xxx', 'xxxx', 'y', 'yy', 'yyy', 'yyyy', 'z', 'zz', 'zzz', 'zzzz']\n",
    "\n",
    "alpha = 'xyz'\n",
    "lst = [j*i for j in range(1,5) for i in alpha]\n",
    "lst.sort()\n",
    "print(lst)"
   ]
  },
  {
   "cell_type": "code",
   "execution_count": 7,
   "metadata": {},
   "outputs": [
    {
     "name": "stdout",
     "output_type": "stream",
     "text": [
      "['x', 'y', 'z', 'xx', 'yy', 'zz', 'xxx', 'yyy', 'zzz', 'xxxx', 'yyyy', 'zzzz']\n"
     ]
    }
   ],
   "source": [
    "# ['x', 'y', 'z', 'xx', 'yy', 'zz', 'xx', 'yy', 'zz', 'xxxx', 'yyyy', 'zzzz']\n",
    "\n",
    "alpha = 'xyz'\n",
    "lst = [j*i for j in range(1,5) for i in alpha]\n",
    "print(lst)"
   ]
  },
  {
   "cell_type": "code",
   "execution_count": 8,
   "metadata": {},
   "outputs": [
    {
     "name": "stdout",
     "output_type": "stream",
     "text": [
      "[[2], [3], [4], [3], [4], [5], [4], [5], [6]]\n"
     ]
    }
   ],
   "source": [
    "# [[2], [3], [4], [3], [4], [5], [4], [5], [6]]\n",
    "\n",
    "lst = list(range(2,5))\n",
    "newlst = [[i+j] for i in lst for j in range(3)]\n",
    "print(newlst)"
   ]
  },
  {
   "cell_type": "code",
   "execution_count": 9,
   "metadata": {},
   "outputs": [
    {
     "name": "stdout",
     "output_type": "stream",
     "text": [
      "[[2, 3, 4, 5], [3, 4, 5, 6], [4, 5, 6, 7], [5, 6, 7, 8]]\n"
     ]
    }
   ],
   "source": [
    "# [[2, 3, 4, 5], [3, 4, 5, 6], [4, 5, 6, 7], [5, 6, 7, 8]]\n",
    "\n",
    "lst = [[i,i+1,i+2,i+3] for i in range(2,6)]\n",
    "print(lst)"
   ]
  },
  {
   "cell_type": "code",
   "execution_count": 10,
   "metadata": {},
   "outputs": [
    {
     "name": "stdout",
     "output_type": "stream",
     "text": [
      "[(1, 1), (2, 1), (3, 1), (1, 2), (2, 2), (3, 2), (1, 3), (2, 3), (3, 3)]\n"
     ]
    }
   ],
   "source": [
    "# [(1, 1), (2, 1), (3, 1), (1, 2), (2, 2), (3, 2), (1, 3), (2, 3), (3, 3)]\n",
    "\n",
    "lst = [(i, j) for j in [1,2,3] for i in [1,2,3]]\n",
    "print(lst)"
   ]
  },
  {
   "cell_type": "code",
   "execution_count": 11,
   "metadata": {},
   "outputs": [
    {
     "name": "stdout",
     "output_type": "stream",
     "text": [
      "['Apple', 'Microsoft', 'Google', 'Oracle']\n",
      "Longest Word: Microsoft\n"
     ]
    }
   ],
   "source": [
    "# 3. Implement a function longestWord() that takes a list of words and returns the longest one.\n",
    "\n",
    "def longestWord(lst):\n",
    "    l = 0\n",
    "    longword = \"\";\n",
    "    for i in lst:\n",
    "        if len(i) > l:\n",
    "            longword = i\n",
    "            l = len(i)\n",
    "    return longword\n",
    "lst = [\"Apple\", \"Microsoft\", \"Google\", \"Oracle\"]\n",
    "print(lst)\n",
    "print(\"Longest Word: \" + longestWord(lst))"
   ]
  },
  {
   "cell_type": "code",
   "execution_count": 12,
   "metadata": {},
   "outputs": [],
   "source": [
    "# Task 2:"
   ]
  },
  {
   "cell_type": "code",
   "execution_count": 13,
   "metadata": {},
   "outputs": [
    {
     "name": "stdout",
     "output_type": "stream",
     "text": [
      "Enter side a: 18\n",
      "Enter side b: 24\n",
      "Enter side c: 30\n",
      "a=18.0, b=24.0, c=30.0\n",
      "Area of triangle: 216.0\n"
     ]
    }
   ],
   "source": [
    "# 1.1 Write a Python Program(with class concepts) to find the area of the triangle using the below formula.\n",
    "#     area = (s*(s-a)*(s-b)*(s-c)) ** 0.5\n",
    "#     Function to take the length of the sides of triangle from user should be defined in the parent\n",
    "#     class and function to calculate the area should be defined in subclass.\n",
    "\n",
    "class TriangleSides: #Parent Class\n",
    "\n",
    "    def __init__(self):\n",
    "        self.a = float(input(\"Enter side a: \"))\n",
    "        self.b = float(input(\"Enter side b: \"))\n",
    "        self.c = float(input(\"Enter side c: \"))\n",
    "    \n",
    "    def displaySides(self):\n",
    "        print('a=' + str(self.a) + ', b=' + str(self.b) + ', c=' + str(self.c))\n",
    "\n",
    "class Triangle(TriangleSides): #Child Class\n",
    "    \n",
    "    def __init__(self,*args,**kwargs):\n",
    "        super(Triangle,self). __init__(*args,**kwargs)\n",
    "        \n",
    "    def Area(self):\n",
    "        super(Triangle, self).displaySides() # Call function displaySides() of class 'TriangleSides' (Parent Class)\n",
    "        s = (self.a + self.b + self.c) / 2\n",
    "        return (s*(s-self.a)*(s-self.b)*(s-self.c))**0.5\n",
    "\n",
    "t = Triangle()\n",
    "print(\"Area of triangle: {}\".format(t.Area()))"
   ]
  },
  {
   "cell_type": "code",
   "execution_count": 14,
   "metadata": {},
   "outputs": [
    {
     "name": "stdout",
     "output_type": "stream",
     "text": [
      "['Chrome', 'Firefox', 'Safari']\n"
     ]
    }
   ],
   "source": [
    "# 1.2 Write a function filter_long_words() that takes a list of words and an integer n and returns the list\n",
    "#     of words that are longer than n.\n",
    "\n",
    "def filter_long_words(lst, n):\n",
    "    longwords = [];\n",
    "    for i in lst:\n",
    "        if len(i) > n:\n",
    "            longwords.append(i)\n",
    "    return longwords\n",
    "\n",
    "lst = [\"Chrome\", \"Firefox\", \"Edge\", \"Safari\", \"UC\"]\n",
    "n = 4 #to filter words that are longer than 4\n",
    "print(filter_long_words(lst, n))"
   ]
  },
  {
   "cell_type": "code",
   "execution_count": 15,
   "metadata": {},
   "outputs": [
    {
     "name": "stdout",
     "output_type": "stream",
     "text": [
      "['Chrome', 'Firefox', 'Edge', 'Safari', 'UC']\n",
      "[6, 7, 4, 6, 2]\n"
     ]
    }
   ],
   "source": [
    "# 2.1 Write a Python program using function concept that maps list of words into a list of integers\n",
    "#     representing the lengths of the corresponding words.\n",
    "#     Hint: If a list [ ab,cde,erty] is passed on to the python function output should come as [2,3,4]\n",
    "#           Here 2,3 and 4 are the lengths of the words in the list.\n",
    "\n",
    "def maps_list_words_to_word_length(lst):\n",
    "    intLst = []\n",
    "    for i in lst:\n",
    "        intLst.append(len(i))\n",
    "    return intLst\n",
    "        \n",
    "\n",
    "lst = [\"Chrome\", \"Firefox\", \"Edge\", \"Safari\", \"UC\"]\n",
    "print(lst)\n",
    "print(maps_list_words_to_word_length(lst))"
   ]
  },
  {
   "cell_type": "code",
   "execution_count": 16,
   "metadata": {},
   "outputs": [
    {
     "name": "stdout",
     "output_type": "stream",
     "text": [
      "True\n",
      "False\n",
      "False\n",
      "True\n"
     ]
    }
   ],
   "source": [
    "# 2.2 Write a Python function which takes a character (i.e. a string of length 1) and returns True if it is\n",
    "#     a vowel, False otherwise.\n",
    "\n",
    "def is_vovel(c):\n",
    "    vowels = 'aeiouAEIOU'\n",
    "    return c in vowels\n",
    "\n",
    "print(is_vovel(\"A\"))\n",
    "print(is_vovel(\"b\"))\n",
    "print(is_vovel(\"C\"))\n",
    "print(is_vovel(\"e\"))"
   ]
  }
 ],
 "metadata": {
  "kernelspec": {
   "display_name": "Python 3",
   "language": "python",
   "name": "python3"
  },
  "language_info": {
   "codemirror_mode": {
    "name": "ipython",
    "version": 3
   },
   "file_extension": ".py",
   "mimetype": "text/x-python",
   "name": "python",
   "nbconvert_exporter": "python",
   "pygments_lexer": "ipython3",
   "version": "3.7.0"
  }
 },
 "nbformat": 4,
 "nbformat_minor": 2
}
